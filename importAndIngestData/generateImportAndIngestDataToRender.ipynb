{
 "cells": [
  {
   "cell_type": "code",
   "execution_count": 1,
   "metadata": {
    "collapsed": true,
    "deletable": true,
    "editable": true
   },
   "outputs": [],
   "source": [
    "import os, sys, json, jsonschema, glob"
   ]
  },
  {
   "cell_type": "code",
   "execution_count": null,
   "metadata": {
    "collapsed": false,
    "deletable": true,
    "editable": true
   },
   "outputs": [],
   "source": [
    "zfirst = 2266\n",
    "zlast = 4491\n",
    "limsdir = '/data/em-131fs/LIMSJson/'\n",
    "\n",
    "# generate json files from LIMS\n",
    "zs = []\n",
    "j = 1\n",
    "for i in xrange(zfirst, zlast, 50):\n",
    "    if i+49 > zlast:\n",
    "        e = zlast\n",
    "    else:\n",
    "        e = i + 49\n",
    "    zs.append([i,e])\n",
    "    cmd = \"python generate_mdfile.py \" + str(i) + \" \" + str(e) + \" \" + limsdir\n",
    "    os.system(cmd)\n",
    "    #print cmd"
   ]
  },
  {
   "cell_type": "code",
   "execution_count": null,
   "metadata": {
    "collapsed": false,
    "deletable": true,
    "editable": true
   },
   "outputs": [],
   "source": [
    "# generate folders to store tile specs\n",
    "\n",
    "basedir = '/data/em-131fs/tileSpecsPhase1_Mar2017'\n",
    "\n",
    "files = glob.glob(os.path.join(limsdir, '*.json'))\n",
    "\n",
    "for i, z in enumerate(zs):\n",
    "    x = files[i].find('_')\n",
    "    y = files[i].find('-', x)\n",
    "    zf = files[i][x+2:y]\n",
    "    zl = files[i][y+2:y+6]\n",
    "    outdir = \"tilespecs_\" + zf + \"_\" + zl\n",
    "    outdir = os.path.join(basedir, outdir)\n",
    "    cmd = \"mkdir \" + outdir\n",
    "    os.system(cmd)\n",
    "    \n",
    "    # generate tile specs\n",
    "    cmd = \"python generate_tile_specs.py \" + files[i] + \" \" + limsdir + \" \" + outdir\n",
    "    #print cmd\n",
    "    os.system(cmd)"
   ]
  },
  {
   "cell_type": "code",
   "execution_count": null,
   "metadata": {
    "collapsed": false,
    "deletable": true,
    "editable": true
   },
   "outputs": [],
   "source": [
    "# ingest into render db\n",
    "tmplate = '/data/nc-em2/gayathrim/Janelia_Pipeline/importAndIngestData/ingestTileSpecsToRender_Template.json'\n",
    "\n",
    "with open(tmplate) as ipJson:\n",
    "    stack = json.load(ipJson)\n",
    "    \n",
    "for i,z in enumerate(zs):\n",
    "    if i == 0:\n",
    "        continue\n",
    "    name = \"Phase1Data_\" + str(z[0]) + \"_\" + str(z[1])\n",
    "    stack[\"stack\"] = name\n",
    "    datadir = os.path.join(basedir, \"tilespecs_\"+str(z[0])+\"_\"+str(z[1]))\n",
    "    stack[\"importDataDir\"] = datadir\n",
    "    with open('jsontmplate.json', 'w') as f:\n",
    "        json.dump(stack, f)\n",
    "    cmd = \"python ingestTileSpecsToRenderDB_Parallel.py --jsonfile jsontmplate.json\"\n",
    "    os.system(cmd)\n",
    "    print name"
   ]
  },
  {
   "cell_type": "code",
   "execution_count": 3,
   "metadata": {
    "collapsed": false,
    "deletable": true,
    "editable": true
   },
   "outputs": [
    {
     "name": "stdout",
     "output_type": "stream",
     "text": [
      "Phase1Data_2316_2365\n"
     ]
    }
   ],
   "source": [
    "# ingest 2344 into its stack\n",
    "tmplate = '/data/nc-em2/gayathrim/Janelia_Pipeline/importAndIngestData/ingestTileSpecsToRender_Template.json'\n",
    "\n",
    "with open(tmplate) as ipJson:\n",
    "    stack = json.load(ipJson)\n",
    "\n",
    "name = \"Phase1Data_2316_2365\"\n",
    "stack[\"stack\"] = name\n",
    "datadir = \"/data/em-131fs/tileSpecsPhase1_Mar2017/tilespecs_2316_2365\"\n",
    "stack[\"importDataDir\"] = datadir\n",
    "with open('jsontmplate.json', 'w') as f:\n",
    "        json.dump(stack, f)\n",
    "cmd = \"python ingestTileSpecsToRenderDB_Parallel.py --jsonfile jsontmplate.json\"\n",
    "os.system(cmd)\n",
    "print name\n",
    "\n"
   ]
  },
  {
   "cell_type": "code",
   "execution_count": 2,
   "metadata": {
    "collapsed": false,
    "deletable": true,
    "editable": true
   },
   "outputs": [
    {
     "name": "stdout",
     "output_type": "stream",
     "text": [
      "Phase1Data_3666_3715\n"
     ]
    }
   ],
   "source": [
    "tmplate = '/data/nc-em2/gayathrim/Janelia_Pipeline/importAndIngestData/ingestTileSpecsToRender_Template.json'\n",
    "\n",
    "with open(tmplate) as ipJson:\n",
    "    stack = json.load(ipJson)\n",
    "\n",
    "name = \"Phase1Data_3666_3715\"\n",
    "stack[\"stack\"] = name\n",
    "datadir = \"/data/em-131fs/tileSpecsPhase1_Mar2017/tilespecs_3666_3715\"\n",
    "stack[\"importDataDir\"] = datadir\n",
    "with open('jsontmplate.json', 'w') as f:\n",
    "        json.dump(stack, f)\n",
    "cmd = \"python ingestTileSpecsToRenderDB_Parallel.py --jsonfile jsontmplate.json\"\n",
    "os.system(cmd)\n",
    "print name"
   ]
  },
  {
   "cell_type": "code",
   "execution_count": null,
   "metadata": {
    "collapsed": true
   },
   "outputs": [],
   "source": []
  }
 ],
 "metadata": {
  "kernelspec": {
   "display_name": "Python 2",
   "language": "python",
   "name": "python2"
  },
  "language_info": {
   "codemirror_mode": {
    "name": "ipython",
    "version": 2
   },
   "file_extension": ".py",
   "mimetype": "text/x-python",
   "name": "python",
   "nbconvert_exporter": "python",
   "pygments_lexer": "ipython2",
   "version": "2.7.12"
  }
 },
 "nbformat": 4,
 "nbformat_minor": 2
}
