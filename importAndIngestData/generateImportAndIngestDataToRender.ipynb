{
 "cells": [
  {
   "cell_type": "code",
   "execution_count": 7,
   "metadata": {
    "collapsed": true,
    "deletable": true,
    "editable": true
   },
   "outputs": [],
   "source": [
    "import os, sys, json, jsonschema, glob"
   ]
  },
  {
   "cell_type": "code",
   "execution_count": 25,
   "metadata": {
    "collapsed": false,
    "deletable": true,
    "editable": true
   },
   "outputs": [],
   "source": [
    "zfirst = 2266\n",
    "zlast = 4491\n",
    "limsdir = '/data/em-131fs/LIMSJson/'\n",
    "\n",
    "# generate json files from LIMS\n",
    "zs = []\n",
    "j = 1\n",
    "for i in xrange(zfirst, zlast, 50):\n",
    "    if i+49 > zlast:\n",
    "        e = zlast\n",
    "    else:\n",
    "        e = i + 49\n",
    "    zs.append([i,e])\n",
    "    cmd = \"python generate_mdfile.py \" + str(i) + \" \" + str(e) + \" \" + limsdir\n",
    "    os.system(cmd)\n",
    "    #print cmd"
   ]
  },
  {
   "cell_type": "code",
   "execution_count": 28,
   "metadata": {
    "collapsed": false,
    "deletable": true,
    "editable": true
   },
   "outputs": [
    {
     "name": "stdout",
     "output_type": "stream",
     "text": [
      "python generate_tile_specs.py /data/em-131fs/LIMSJson/20170309_z2716-z2765.json /data/em-131fs/LIMSJson/ /data/em-131fs/tileSpecsPhase1_Mar2017/tilespecs_2716_2765\n",
      "python generate_tile_specs.py /data/em-131fs/LIMSJson/20170309_z2816-z2865.json /data/em-131fs/LIMSJson/ /data/em-131fs/tileSpecsPhase1_Mar2017/tilespecs_2816_2865\n",
      "python generate_tile_specs.py /data/em-131fs/LIMSJson/20170309_z2916-z2965.json /data/em-131fs/LIMSJson/ /data/em-131fs/tileSpecsPhase1_Mar2017/tilespecs_2916_2965\n",
      "python generate_tile_specs.py /data/em-131fs/LIMSJson/20170309_z3016-z3065.json /data/em-131fs/LIMSJson/ /data/em-131fs/tileSpecsPhase1_Mar2017/tilespecs_3016_3065\n",
      "python generate_tile_specs.py /data/em-131fs/LIMSJson/20170309_z3066-z3115.json /data/em-131fs/LIMSJson/ /data/em-131fs/tileSpecsPhase1_Mar2017/tilespecs_3066_3115\n",
      "python generate_tile_specs.py /data/em-131fs/LIMSJson/20170309_z3166-z3215.json /data/em-131fs/LIMSJson/ /data/em-131fs/tileSpecsPhase1_Mar2017/tilespecs_3166_3215\n",
      "python generate_tile_specs.py /data/em-131fs/LIMSJson/20170309_z3266-z3315.json /data/em-131fs/LIMSJson/ /data/em-131fs/tileSpecsPhase1_Mar2017/tilespecs_3266_3315\n",
      "python generate_tile_specs.py /data/em-131fs/LIMSJson/20170309_z3316-z3365.json /data/em-131fs/LIMSJson/ /data/em-131fs/tileSpecsPhase1_Mar2017/tilespecs_3316_3365\n",
      "python generate_tile_specs.py /data/em-131fs/LIMSJson/20170309_z3416-z3465.json /data/em-131fs/LIMSJson/ /data/em-131fs/tileSpecsPhase1_Mar2017/tilespecs_3416_3465\n",
      "python generate_tile_specs.py /data/em-131fs/LIMSJson/20170309_z3516-z3565.json /data/em-131fs/LIMSJson/ /data/em-131fs/tileSpecsPhase1_Mar2017/tilespecs_3516_3565\n",
      "python generate_tile_specs.py /data/em-131fs/LIMSJson/20170309_z3566-z3615.json /data/em-131fs/LIMSJson/ /data/em-131fs/tileSpecsPhase1_Mar2017/tilespecs_3566_3615\n",
      "python generate_tile_specs.py /data/em-131fs/LIMSJson/20170309_z3666-z3715.json /data/em-131fs/LIMSJson/ /data/em-131fs/tileSpecsPhase1_Mar2017/tilespecs_3666_3715\n",
      "python generate_tile_specs.py /data/em-131fs/LIMSJson/20170309_z3766-z3815.json /data/em-131fs/LIMSJson/ /data/em-131fs/tileSpecsPhase1_Mar2017/tilespecs_3766_3815\n",
      "python generate_tile_specs.py /data/em-131fs/LIMSJson/20170309_z3816-z3865.json /data/em-131fs/LIMSJson/ /data/em-131fs/tileSpecsPhase1_Mar2017/tilespecs_3816_3865\n",
      "python generate_tile_specs.py /data/em-131fs/LIMSJson/20170309_z3916-z3965.json /data/em-131fs/LIMSJson/ /data/em-131fs/tileSpecsPhase1_Mar2017/tilespecs_3916_3965\n",
      "python generate_tile_specs.py /data/em-131fs/LIMSJson/20170309_z4016-z4065.json /data/em-131fs/LIMSJson/ /data/em-131fs/tileSpecsPhase1_Mar2017/tilespecs_4016_4065\n",
      "python generate_tile_specs.py /data/em-131fs/LIMSJson/20170309_z4066-z4115.json /data/em-131fs/LIMSJson/ /data/em-131fs/tileSpecsPhase1_Mar2017/tilespecs_4066_4115\n",
      "python generate_tile_specs.py /data/em-131fs/LIMSJson/20170309_z4166-z4215.json /data/em-131fs/LIMSJson/ /data/em-131fs/tileSpecsPhase1_Mar2017/tilespecs_4166_4215\n",
      "python generate_tile_specs.py /data/em-131fs/LIMSJson/20170309_z4266-z4315.json /data/em-131fs/LIMSJson/ /data/em-131fs/tileSpecsPhase1_Mar2017/tilespecs_4266_4315\n",
      "python generate_tile_specs.py /data/em-131fs/LIMSJson/20170309_z4316-z4365.json /data/em-131fs/LIMSJson/ /data/em-131fs/tileSpecsPhase1_Mar2017/tilespecs_4316_4365\n",
      "python generate_tile_specs.py /data/em-131fs/LIMSJson/20170309_z4416-z4465.json /data/em-131fs/LIMSJson/ /data/em-131fs/tileSpecsPhase1_Mar2017/tilespecs_4416_4465\n",
      "python generate_tile_specs.py /data/em-131fs/LIMSJson/20170309_z2266-z2315.json /data/em-131fs/LIMSJson/ /data/em-131fs/tileSpecsPhase1_Mar2017/tilespecs_2266_2315\n",
      "python generate_tile_specs.py /data/em-131fs/LIMSJson/20170309_z2316-z2365.json /data/em-131fs/LIMSJson/ /data/em-131fs/tileSpecsPhase1_Mar2017/tilespecs_2316_2365\n",
      "python generate_tile_specs.py /data/em-131fs/LIMSJson/20170309_z2366-z2415.json /data/em-131fs/LIMSJson/ /data/em-131fs/tileSpecsPhase1_Mar2017/tilespecs_2366_2415\n",
      "python generate_tile_specs.py /data/em-131fs/LIMSJson/20170309_z2416-z2465.json /data/em-131fs/LIMSJson/ /data/em-131fs/tileSpecsPhase1_Mar2017/tilespecs_2416_2465\n",
      "python generate_tile_specs.py /data/em-131fs/LIMSJson/20170309_z2466-z2515.json /data/em-131fs/LIMSJson/ /data/em-131fs/tileSpecsPhase1_Mar2017/tilespecs_2466_2515\n",
      "python generate_tile_specs.py /data/em-131fs/LIMSJson/20170309_z2516-z2565.json /data/em-131fs/LIMSJson/ /data/em-131fs/tileSpecsPhase1_Mar2017/tilespecs_2516_2565\n",
      "python generate_tile_specs.py /data/em-131fs/LIMSJson/20170309_z2566-z2615.json /data/em-131fs/LIMSJson/ /data/em-131fs/tileSpecsPhase1_Mar2017/tilespecs_2566_2615\n",
      "python generate_tile_specs.py /data/em-131fs/LIMSJson/20170309_z2616-z2665.json /data/em-131fs/LIMSJson/ /data/em-131fs/tileSpecsPhase1_Mar2017/tilespecs_2616_2665\n",
      "python generate_tile_specs.py /data/em-131fs/LIMSJson/20170309_z2666-z2715.json /data/em-131fs/LIMSJson/ /data/em-131fs/tileSpecsPhase1_Mar2017/tilespecs_2666_2715\n",
      "python generate_tile_specs.py /data/em-131fs/LIMSJson/20170309_z2766-z2815.json /data/em-131fs/LIMSJson/ /data/em-131fs/tileSpecsPhase1_Mar2017/tilespecs_2766_2815\n",
      "python generate_tile_specs.py /data/em-131fs/LIMSJson/20170309_z2866-z2915.json /data/em-131fs/LIMSJson/ /data/em-131fs/tileSpecsPhase1_Mar2017/tilespecs_2866_2915\n",
      "python generate_tile_specs.py /data/em-131fs/LIMSJson/20170309_z2966-z3015.json /data/em-131fs/LIMSJson/ /data/em-131fs/tileSpecsPhase1_Mar2017/tilespecs_2966_3015\n",
      "python generate_tile_specs.py /data/em-131fs/LIMSJson/20170309_z3116-z3165.json /data/em-131fs/LIMSJson/ /data/em-131fs/tileSpecsPhase1_Mar2017/tilespecs_3116_3165\n",
      "python generate_tile_specs.py /data/em-131fs/LIMSJson/20170309_z3216-z3265.json /data/em-131fs/LIMSJson/ /data/em-131fs/tileSpecsPhase1_Mar2017/tilespecs_3216_3265\n",
      "python generate_tile_specs.py /data/em-131fs/LIMSJson/20170309_z3366-z3415.json /data/em-131fs/LIMSJson/ /data/em-131fs/tileSpecsPhase1_Mar2017/tilespecs_3366_3415\n",
      "python generate_tile_specs.py /data/em-131fs/LIMSJson/20170309_z3466-z3515.json /data/em-131fs/LIMSJson/ /data/em-131fs/tileSpecsPhase1_Mar2017/tilespecs_3466_3515\n",
      "python generate_tile_specs.py /data/em-131fs/LIMSJson/20170309_z3616-z3665.json /data/em-131fs/LIMSJson/ /data/em-131fs/tileSpecsPhase1_Mar2017/tilespecs_3616_3665\n",
      "python generate_tile_specs.py /data/em-131fs/LIMSJson/20170309_z3716-z3765.json /data/em-131fs/LIMSJson/ /data/em-131fs/tileSpecsPhase1_Mar2017/tilespecs_3716_3765\n",
      "python generate_tile_specs.py /data/em-131fs/LIMSJson/20170309_z3866-z3915.json /data/em-131fs/LIMSJson/ /data/em-131fs/tileSpecsPhase1_Mar2017/tilespecs_3866_3915\n",
      "python generate_tile_specs.py /data/em-131fs/LIMSJson/20170309_z3966-z4015.json /data/em-131fs/LIMSJson/ /data/em-131fs/tileSpecsPhase1_Mar2017/tilespecs_3966_4015\n",
      "python generate_tile_specs.py /data/em-131fs/LIMSJson/20170309_z4116-z4165.json /data/em-131fs/LIMSJson/ /data/em-131fs/tileSpecsPhase1_Mar2017/tilespecs_4116_4165\n",
      "python generate_tile_specs.py /data/em-131fs/LIMSJson/20170309_z4216-z4265.json /data/em-131fs/LIMSJson/ /data/em-131fs/tileSpecsPhase1_Mar2017/tilespecs_4216_4265\n",
      "python generate_tile_specs.py /data/em-131fs/LIMSJson/20170309_z4366-z4415.json /data/em-131fs/LIMSJson/ /data/em-131fs/tileSpecsPhase1_Mar2017/tilespecs_4366_4415\n",
      "python generate_tile_specs.py /data/em-131fs/LIMSJson/20170309_z4466-z4491.json /data/em-131fs/LIMSJson/ /data/em-131fs/tileSpecsPhase1_Mar2017/tilespecs_4466_4491\n"
     ]
    }
   ],
   "source": [
    "# generate folders to store tile specs\n",
    "\n",
    "basedir = '/data/em-131fs/tileSpecsPhase1_Mar2017'\n",
    "\n",
    "files = glob.glob(os.path.join(limsdir, '*.json'))\n",
    "\n",
    "for i, z in enumerate(zs):\n",
    "    x = files[i].find('_')\n",
    "    y = files[i].find('-', x)\n",
    "    zf = files[i][x+2:y]\n",
    "    zl = files[i][y+2:y+6]\n",
    "    outdir = \"tilespecs_\" + zf + \"_\" + zl\n",
    "    outdir = os.path.join(basedir, outdir)\n",
    "    cmd = \"mkdir \" + outdir\n",
    "    os.system(cmd)\n",
    "    \n",
    "    # generate tile specs\n",
    "    cmd = \"python generate_tile_specs.py \" + files[i] + \" \" + limsdir + \" \" + outdir\n",
    "    #print cmd\n",
    "    os.system(cmd)"
   ]
  },
  {
   "cell_type": "code",
   "execution_count": 33,
   "metadata": {
    "collapsed": false,
    "deletable": true,
    "editable": true
   },
   "outputs": [
    {
     "name": "stdout",
     "output_type": "stream",
     "text": [
      "Phase1Data_2316_2365\n",
      "Phase1Data_2366_2415\n",
      "Phase1Data_2416_2465\n",
      "Phase1Data_2466_2515\n",
      "Phase1Data_2516_2565\n",
      "Phase1Data_2566_2615\n",
      "Phase1Data_2616_2665\n",
      "Phase1Data_2666_2715\n",
      "Phase1Data_2716_2765\n",
      "Phase1Data_2766_2815\n",
      "Phase1Data_2816_2865\n",
      "Phase1Data_2866_2915\n",
      "Phase1Data_2916_2965\n",
      "Phase1Data_2966_3015\n",
      "Phase1Data_3016_3065\n",
      "Phase1Data_3066_3115\n",
      "Phase1Data_3116_3165\n",
      "Phase1Data_3166_3215\n",
      "Phase1Data_3216_3265\n",
      "Phase1Data_3266_3315\n",
      "Phase1Data_3316_3365\n",
      "Phase1Data_3366_3415\n",
      "Phase1Data_3416_3465\n",
      "Phase1Data_3466_3515\n",
      "Phase1Data_3516_3565\n",
      "Phase1Data_3566_3615\n",
      "Phase1Data_3616_3665\n",
      "Phase1Data_3666_3715\n",
      "Phase1Data_3716_3765\n",
      "Phase1Data_3766_3815\n",
      "Phase1Data_3816_3865\n",
      "Phase1Data_3866_3915\n",
      "Phase1Data_3916_3965\n",
      "Phase1Data_3966_4015\n",
      "Phase1Data_4016_4065\n",
      "Phase1Data_4066_4115\n",
      "Phase1Data_4116_4165\n",
      "Phase1Data_4166_4215\n",
      "Phase1Data_4216_4265\n",
      "Phase1Data_4266_4315\n",
      "Phase1Data_4316_4365\n",
      "Phase1Data_4366_4415\n",
      "Phase1Data_4416_4465\n",
      "Phase1Data_4466_4491\n"
     ]
    }
   ],
   "source": [
    "# ingest into render db\n",
    "tmplate = '/data/nc-em2/gayathrim/Janelia_Pipeline/importAndIngestData/ingestTileSpecsToRender_Template.json'\n",
    "\n",
    "with open(tmplate) as ipJson:\n",
    "    stack = json.load(ipJson)\n",
    "    \n",
    "for i,z in enumerate(zs):\n",
    "    if i == 0:\n",
    "        continue\n",
    "    name = \"Phase1Data_\" + str(z[0]) + \"_\" + str(z[1])\n",
    "    stack[\"stack\"] = name\n",
    "    datadir = os.path.join(basedir, \"tilespecs_\"+str(z[0])+\"_\"+str(z[1]))\n",
    "    stack[\"importDataDir\"] = datadir\n",
    "    with open('jsontmplate.json', 'w') as f:\n",
    "        json.dump(stack, f)\n",
    "    cmd = \"python ingestTileSpecsToRenderDB_Parallel.py --jsonfile jsontmplate.json\"\n",
    "    os.system(cmd)\n",
    "    print name"
   ]
  },
  {
   "cell_type": "code",
   "execution_count": null,
   "metadata": {
    "collapsed": true,
    "deletable": true,
    "editable": true
   },
   "outputs": [],
   "source": []
  }
 ],
 "metadata": {
  "kernelspec": {
   "display_name": "Python 2",
   "language": "python",
   "name": "python2"
  },
  "language_info": {
   "codemirror_mode": {
    "name": "ipython",
    "version": 2
   },
   "file_extension": ".py",
   "mimetype": "text/x-python",
   "name": "python",
   "nbconvert_exporter": "python",
   "pygments_lexer": "ipython2",
   "version": "2.7.12"
  }
 },
 "nbformat": 4,
 "nbformat_minor": 2
}
