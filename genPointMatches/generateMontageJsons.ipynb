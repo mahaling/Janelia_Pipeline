{
 "cells": [
  {
   "cell_type": "code",
   "execution_count": 1,
   "metadata": {
    "collapsed": true,
    "deletable": true,
    "editable": true
   },
   "outputs": [],
   "source": [
    "import os,sys,json"
   ]
  },
  {
   "cell_type": "code",
   "execution_count": 2,
   "metadata": {
    "collapsed": false,
    "deletable": true,
    "editable": true
   },
   "outputs": [
    {
     "name": "stdout",
     "output_type": "stream",
     "text": [
      "3266 3290 3266\n",
      "Phase1Data_3266_3315_montagePM\n",
      "/data/nc-em2/gayathrim/Janelia_Pipeline/genPointMatches/tilepairs/tile_pairs_Phase1Data_3266_3315_z_3266_to_3290_dist_0.json.gz\n",
      "{u'no_nodes': 15, u'args': {u'baseDataUrl': u'http://em-131fs:8080/render-ws/v1', u'maxFeatureCacheGb': 15, u'SIFTmaxScale': 0.62, u'SIFTfdSize': 8, u'matchMinNumInliers': 4, u'renderScale': 0.5, u'collection': 'Phase1Data_3266_3315_montagePM', u'matchMaxNumInliers': 200, u'matchMaxEpsilon': 20.0, u'SIFTminScale': 0.58, u'matchMinInlierRatio': 0.0, u'owner': u'gayathri', u'pairJson': '/data/nc-em2/gayathrim/Janelia_Pipeline/genPointMatches/tilepairs/tile_pairs_Phase1Data_3266_3315_z_3266_to_3290_dist_0.json.gz', u'SIFTsteps': 2, u'matchRod': 0.8}, u'ppn': 30, u'className': u'org.janelia.render.client.spark.SIFTPointMatchClient', u'logdir': u'/data/nc-em2/gayathrim/Janelia_Pipeline/scratch/sparkLogs/', u'sparkhome': u'/data/nc-em/russelt/spark/', u'jarfile': u'/data/nc-em2/gayathrim/Janelia_Pipeline/renderBin/lib/render-ws-spark-client-0.3.0-SNAPSHOT-standalone.jar'}\n",
      "3291 3315 3266\n",
      "Phase1Data_3266_3315_montagePM\n",
      "/data/nc-em2/gayathrim/Janelia_Pipeline/genPointMatches/tilepairs/tile_pairs_Phase1Data_3266_3315_z_3291_to_3315_dist_0.json.gz\n",
      "{u'no_nodes': 15, u'args': {u'baseDataUrl': u'http://em-131fs:8080/render-ws/v1', u'maxFeatureCacheGb': 15, u'SIFTmaxScale': 0.62, u'SIFTfdSize': 8, u'matchMinNumInliers': 4, u'renderScale': 0.5, u'collection': 'Phase1Data_3266_3315_montagePM', u'matchMaxNumInliers': 200, u'matchMaxEpsilon': 20.0, u'SIFTminScale': 0.58, u'matchMinInlierRatio': 0.0, u'owner': u'gayathri', u'pairJson': '/data/nc-em2/gayathrim/Janelia_Pipeline/genPointMatches/tilepairs/tile_pairs_Phase1Data_3266_3315_z_3291_to_3315_dist_0.json.gz', u'SIFTsteps': 2, u'matchRod': 0.8}, u'ppn': 30, u'className': u'org.janelia.render.client.spark.SIFTPointMatchClient', u'logdir': u'/data/nc-em2/gayathrim/Janelia_Pipeline/scratch/sparkLogs/', u'sparkhome': u'/data/nc-em/russelt/spark/', u'jarfile': u'/data/nc-em2/gayathrim/Janelia_Pipeline/renderBin/lib/render-ws-spark-client-0.3.0-SNAPSHOT-standalone.jar'}\n"
     ]
    }
   ],
   "source": [
    "jsonfile = \"qsubPointMatchGenSpark.json\"\n",
    "tilepair = \"/data/nc-em2/gayathrim/Janelia_Pipeline/genPointMatches/tilepairs\"\n",
    "\n",
    "with open(jsonfile) as js:\n",
    "    params = json.load(js)\n",
    "    \n",
    "zfirst = 3266\n",
    "zlast = 3315\n",
    "inc = 25\n",
    "m = zfirst\n",
    "\n",
    "for i in xrange(zfirst, zlast, inc):\n",
    "    if i == 4466:\n",
    "        j = i + inc\n",
    "    else:\n",
    "        j = i + inc - 1\n",
    "    params[\"args\"][\"collection\"] = \"Phase1Data_\" + str(m) + \"_\" + str(m+49) + \"_montagePM\"\n",
    "    params[\"args\"][\"pairJson\"] = \"tile_pairs_Phase1Data_\" + str(m) + \"_\" + str(m+49) + \"_z_\" + str(i) + \"_to_\" + str(j) + \"_dist_0.json.gz\"   \n",
    "    params[\"args\"][\"pairJson\"] = os.path.join(tilepair, params[\"args\"][\"pairJson\"])\n",
    "    print i,j, m\n",
    "    if (m+49 == j):\n",
    "        m = m + 50\n",
    "    print params[\"args\"][\"collection\"]\n",
    "    print params[\"args\"][\"pairJson\"]\n",
    "    \n",
    "    outfile = str(i)+ \".json\"\n",
    "    jsfile = os.path.join(tilepair, outfile)\n",
    "    with open(jsfile, 'w') as f:\n",
    "        json.dump(params, f, indent=4)\n",
    "    \n",
    "    print params"
   ]
  },
  {
   "cell_type": "code",
   "execution_count": null,
   "metadata": {
    "collapsed": true,
    "deletable": true,
    "editable": true
   },
   "outputs": [],
   "source": [
    "z = 3311\n",
    "\n"
   ]
  }
 ],
 "metadata": {
  "kernelspec": {
   "display_name": "Python 2",
   "language": "python",
   "name": "python2"
  },
  "language_info": {
   "codemirror_mode": {
    "name": "ipython",
    "version": 2
   },
   "file_extension": ".py",
   "mimetype": "text/x-python",
   "name": "python",
   "nbconvert_exporter": "python",
   "pygments_lexer": "ipython2",
   "version": "2.7.12"
  }
 },
 "nbformat": 4,
 "nbformat_minor": 2
}
