{
 "cells": [
  {
   "cell_type": "code",
   "execution_count": null,
   "metadata": {
    "collapsed": true
   },
   "outputs": [],
   "source": [
    "import os, sys, json"
   ]
  },
  {
   "cell_type": "code",
   "execution_count": null,
   "metadata": {
    "collapsed": false
   },
   "outputs": [],
   "source": [
    "basedir = \"/data/nc-em2/gayathrim/Janelia_Pipeline/\"\n",
    "tilepairs = \"/data/nc-em2/gayathrim/Janelia_Pipeline/roughAlign/tilepairs\"\n",
    "\n",
    "tmpltjson = \"/data/nc-em2/gayathrim/Janelia_Pipeline/genPointMatches/generateTilePairsTemplate.json\"\n",
    "\n",
    "minz = 2266\n",
    "maxz = 2315\n",
    "\n",
    "inc = 25\n",
    "\n",
    "# read the template json\n",
    "\n",
    "with open(tmpltjson) as ipJson:\n",
    "    params = json.load(ipJson)\n",
    "    \n",
    "# set z-neighbor distance to 2\n",
    "params[\"distance\"] = 2\n",
    "\n",
    "# set min and max z\n",
    "params[\"minZ\"] = minz\n",
    "params[\"maxZ\"] = maxz\n",
    "\n",
    "# change the output dir\n",
    "params[\"outputDir\"] = tilepairs\n",
    "\n",
    "# change stack name\n",
    "params[\"stack\"] = \"Phase1Data_\" + str(minz) + \"_\" + str(maxz)\n",
    "\n",
    "# set exclusion of same layer tile pair generation to true\n",
    "params[\"excludeSameLayerNeighbors\"] = \"true\"\n",
    "\n",
    "\n",
    "tmpjson = \"/data/nc-em2/gayathrim/Janelia_Pipeline/roughAlign/tempJson.json\"\n",
    "\n",
    "with open(tmpjson, 'w') as f:\n",
    "    json.dump(params, f, sort_keys=True, indent=4)\n",
    "    \n",
    "# generate the tile pairs \n",
    "cmd = \"python \" + os.path.join(basedir, \"genPointMatches\", \"01_generate_tile_pairs.py\") + \" --jsonfile \" + tmpjson\n",
    "print cmd\n",
    "os.system(cmd)"
   ]
  },
  {
   "cell_type": "code",
   "execution_count": null,
   "metadata": {
    "collapsed": true
   },
   "outputs": [],
   "source": []
  }
 ],
 "metadata": {
  "kernelspec": {
   "display_name": "Python 2",
   "language": "python",
   "name": "python2"
  },
  "language_info": {
   "codemirror_mode": {
    "name": "ipython",
    "version": 2
   },
   "file_extension": ".py",
   "mimetype": "text/x-python",
   "name": "python",
   "nbconvert_exporter": "python",
   "pygments_lexer": "ipython2",
   "version": "2.7.12"
  }
 },
 "nbformat": 4,
 "nbformat_minor": 2
}
